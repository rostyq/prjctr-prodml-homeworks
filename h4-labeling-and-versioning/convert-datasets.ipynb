{
 "cells": [
  {
   "cell_type": "code",
   "execution_count": 5,
   "metadata": {},
   "outputs": [],
   "source": [
    "from pathlib import Path\n",
    "from pprint import pprint\n",
    "\n",
    "from tqdm import tqdm"
   ]
  },
  {
   "attachments": {},
   "cell_type": "markdown",
   "metadata": {},
   "source": [
    "### Convert WebGazer dataset"
   ]
  },
  {
   "cell_type": "code",
   "execution_count": 6,
   "metadata": {},
   "outputs": [
    {
     "data": {
      "text/plain": [
       "WindowsPath('E:/webgazer-dataset/WebGazerETRA2018Dataset_Release20180420')"
      ]
     },
     "execution_count": 6,
     "metadata": {},
     "output_type": "execute_result"
    }
   ],
   "source": [
    "WEBGAZER_DATASET_INPUT_DIR = Path(input(\"webgazer dataset root dir:\"))\n",
    "WEBGAZER_DATASET_OUTPUT_DIR = Path(\"./data/webgazer/\")\n",
    "WEBGAZER_DATASET_INPUT_DIR"
   ]
  },
  {
   "attachments": {},
   "cell_type": "markdown",
   "metadata": {},
   "source": [
    "#### Load metadata"
   ]
  },
  {
   "cell_type": "code",
   "execution_count": 7,
   "metadata": {},
   "outputs": [
    {
     "name": "stdout",
     "output_type": "stream",
     "text": [
      "{'Age': '25',\n",
      " 'Date': '4/5/2017',\n",
      " 'Display Height (pixels)': '900',\n",
      " 'Display Width (pixels)': '1440',\n",
      " 'Distance From Screen (cm)': '60',\n",
      " 'Duration': '16:40:00',\n",
      " 'Facial Hair': 'None',\n",
      " 'Gender': 'Male',\n",
      " 'Notes': 'Did not see the button at the bottom of the Google page. Had to '\n",
      "          'briefly intervene to show.',\n",
      " 'Participant ID': 'P_01',\n",
      " 'Participant Log ID': '1491423217564',\n",
      " 'Pointing Device': 'Trackpad',\n",
      " 'Screen Height (cm)': '20.73',\n",
      " 'Screen Recording Start Time (Unix milliseconds)': '1491423552200',\n",
      " 'Screen Recording Start Time (Wall Clock UTC)': '4/5/2017 20:36',\n",
      " 'Screen Width (cm)': '33.17',\n",
      " 'Self-Reported Eye Color': 'Dark Brown to Brown',\n",
      " 'Self-Reported Handedness': 'Right',\n",
      " 'Self-Reported Race': 'Asian',\n",
      " 'Self-Reported Skin Color': '1',\n",
      " 'Self-Reported Vision': 'Normal',\n",
      " 'Setting': 'Laptop',\n",
      " 'Time of day': '16:00',\n",
      " 'Touch Typer': 'Yes',\n",
      " 'Weather': 'Cloudy'}\n"
     ]
    }
   ],
   "source": [
    "def load_participants(root: Path) -> list[dict]:\n",
    "    from csv import DictReader\n",
    "\n",
    "    path = root.joinpath(\"participant_characteristics.csv\")\n",
    "    with path.open(\"r\") as f:\n",
    "        participants = [row for row in DictReader(f)]\n",
    "    \n",
    "    participants.sort(key=lambda p: int(p[\"Participant ID\"].split(\"_\")[1]))\n",
    "    return participants\n",
    "\n",
    "participants = load_participants(WEBGAZER_DATASET_INPUT_DIR)\n",
    "pprint(participants[0])"
   ]
  },
  {
   "cell_type": "markdown",
   "metadata": {},
   "source": [
    "#### Processing"
   ]
  },
  {
   "cell_type": "code",
   "execution_count": 8,
   "metadata": {},
   "outputs": [],
   "source": [
    "def load_snapshots(root: Path, participant: dict) -> list[dict]:\n",
    "    from contextlib import suppress\n",
    "    from json import loads, JSONDecodeError\n",
    "\n",
    "    pid = participant[\"Participant ID\"]\n",
    "    path = root.joinpath(pid).joinpath(pid).with_suffix(\".txt\")\n",
    "\n",
    "    snapshots = []\n",
    "    with path.open(\"rb\") as f:\n",
    "        for line in f.readlines():\n",
    "            with suppress(JSONDecodeError):\n",
    "                snapshots.append(loads(line))\n",
    "\n",
    "    snapshots.sort(key=lambda snapshot: snapshot[\"true_time\"])\n",
    "    return snapshots\n",
    "\n",
    "\n",
    "def convert_and_write_snapshots(participant: dict, snapshots: list[dict], dest: Path):\n",
    "    from csv import DictWriter\n",
    "\n",
    "    pid = participant[\"Participant ID\"]\n",
    "\n",
    "    display_width = int(participant[\"Display Width (pixels)\"])\n",
    "    display_height = int(participant[\"Display Height (pixels)\"])\n",
    "\n",
    "    timestamp_origin = snapshots[0][\"true_time\"]\n",
    "\n",
    "    path = dest.joinpath(pid).with_suffix(\".csv\")\n",
    "\n",
    "    with path.open(\"w\") as f:\n",
    "        writer = DictWriter(f, [\"time\", \"x\", \"y\"], lineterminator=\"\\n\")\n",
    "        writer.writeheader()\n",
    "\n",
    "        for snapshot in snapshots:\n",
    "            if snapshot[\"right_gaze_point_validity\"] == 1:\n",
    "                side = \"right\"\n",
    "            elif snapshot[\"left_gaze_point_validity\"] == 1:\n",
    "                side = \"left\"\n",
    "            else:\n",
    "                continue\n",
    "\n",
    "            x, y = snapshot[f\"{side}_gaze_point_on_display_area\"]\n",
    "\n",
    "            writer.writerow(\n",
    "                {\n",
    "                    \"time\": snapshot[\"true_time\"] - timestamp_origin,\n",
    "                    \"x\": int(x * display_width),\n",
    "                    \"y\": int(y * display_height),\n",
    "                }\n",
    "            )\n",
    "\n",
    "\n",
    "def process_participant(participant: dict, input: Path, output: Path):\n",
    "    convert_and_write_snapshots(\n",
    "        participant=participant,\n",
    "        snapshots=load_snapshots(root=input, participant=participant),\n",
    "        dest=output,\n",
    "    )\n"
   ]
  },
  {
   "cell_type": "code",
   "execution_count": 25,
   "metadata": {},
   "outputs": [],
   "source": [
    "from concurrent.futures import Executor, as_completed\n",
    "\n",
    "def run(executor: Executor, participants: list[dict], input: Path, output: Path):\n",
    "    with tqdm(total=len(participants), desc=\"participants\") as pbar:\n",
    "        futures = [\n",
    "            executor.submit(\n",
    "                process_participant,\n",
    "                participant=participant,\n",
    "                input=input,\n",
    "                output=output,\n",
    "            )\n",
    "            for participant in participants\n",
    "        ]\n",
    "\n",
    "        for _ in as_completed(futures):\n",
    "            pbar.update(1)"
   ]
  },
  {
   "cell_type": "code",
   "execution_count": 27,
   "metadata": {},
   "outputs": [
    {
     "name": "stderr",
     "output_type": "stream",
     "text": [
      "participants: 100%|██████████| 51/51 [04:54<00:00,  5.77s/it]\n"
     ]
    }
   ],
   "source": [
    "from concurrent.futures import ThreadPoolExecutor\n",
    "\n",
    "with ThreadPoolExecutor(max_workers=4) as executor:\n",
    "    run(executor, participants, WEBGAZER_DATASET_INPUT_DIR, WEBGAZER_DATASET_OUTPUT_DIR)"
   ]
  },
  {
   "attachments": {},
   "cell_type": "markdown",
   "metadata": {},
   "source": [
    "### Kaggle dataset"
   ]
  },
  {
   "cell_type": "code",
   "execution_count": 9,
   "metadata": {},
   "outputs": [
    {
     "data": {
      "text/plain": [
       "WindowsPath('E:/dataset_normalised_5mins')"
      ]
     },
     "execution_count": 9,
     "metadata": {},
     "output_type": "execute_result"
    }
   ],
   "source": [
    "KAGGLE_DATASET_INPUT_DIR = Path(input(\"kaggle dataset root dir:\"))\n",
    "KAGGLE_DATASET_OUTPUT_DIR = Path(\"./data/kaggle/\")\n",
    "KAGGLE_DATASET_INPUT_DIR"
   ]
  },
  {
   "cell_type": "code",
   "execution_count": 19,
   "metadata": {},
   "outputs": [
    {
     "name": "stderr",
     "output_type": "stream",
     "text": [
      "192it [00:10, 18.59it/s]\n"
     ]
    }
   ],
   "source": [
    "import csv\n",
    "\n",
    "for path in tqdm(KAGGLE_DATASET_INPUT_DIR.glob(\"*.csv\")):\n",
    "    pid, activity = path.name.split(\"_\")\n",
    "\n",
    "    snapshots = []\n",
    "    with path.open(\"r\") as f:\n",
    "        for row in csv.DictReader(f):\n",
    "            time = int(row[\"timestamp\"]) / 1000\n",
    "            x, y = int(row['x']), int(row[\"y\"])\n",
    "            snapshots.append({\"time\": time, \"x\": x, \"y\": y})\n",
    "    \n",
    "    out = KAGGLE_DATASET_OUTPUT_DIR / path.name\n",
    "    \n",
    "    with out.open(\"w\") as f:\n",
    "        writer = csv.DictWriter(f, [\"time\", \"x\", \"y\"], lineterminator=\"\\n\")\n",
    "        writer.writeheader()\n",
    "        writer.writerows(snapshots)"
   ]
  },
  {
   "cell_type": "code",
   "execution_count": null,
   "metadata": {},
   "outputs": [],
   "source": []
  }
 ],
 "metadata": {
  "kernelspec": {
   "display_name": "Python 3",
   "language": "python",
   "name": "python3"
  },
  "language_info": {
   "codemirror_mode": {
    "name": "ipython",
    "version": 3
   },
   "file_extension": ".py",
   "mimetype": "text/x-python",
   "name": "python",
   "nbconvert_exporter": "python",
   "pygments_lexer": "ipython3",
   "version": "3.11.0"
  },
  "orig_nbformat": 4
 },
 "nbformat": 4,
 "nbformat_minor": 2
}
